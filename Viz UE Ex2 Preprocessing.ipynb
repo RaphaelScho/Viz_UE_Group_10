{
 "cells": [
  {
   "cell_type": "code",
   "execution_count": 1,
   "metadata": {},
   "outputs": [],
   "source": [
    "import pandas as pd\n",
    "import numpy as np\n",
    "import matplotlib.pyplot as plt"
   ]
  },
  {
   "cell_type": "code",
   "execution_count": 2,
   "metadata": {},
   "outputs": [],
   "source": [
    "data = pd.read_csv(\"data/SFBay.csv\", sep=\";\")"
   ]
  },
  {
   "cell_type": "code",
   "execution_count": 3,
   "metadata": {},
   "outputs": [
    {
     "data": {
      "text/html": [
       "<div>\n",
       "<style scoped>\n",
       "    .dataframe tbody tr th:only-of-type {\n",
       "        vertical-align: middle;\n",
       "    }\n",
       "\n",
       "    .dataframe tbody tr th {\n",
       "        vertical-align: top;\n",
       "    }\n",
       "\n",
       "    .dataframe thead th {\n",
       "        text-align: right;\n",
       "    }\n",
       "</style>\n",
       "<table border=\"1\" class=\"dataframe\">\n",
       "  <thead>\n",
       "    <tr style=\"text-align: right;\">\n",
       "      <th></th>\n",
       "      <th>TimeStamp</th>\n",
       "      <th>Station.Number</th>\n",
       "      <th>Distance.from.36</th>\n",
       "      <th>Depth</th>\n",
       "      <th>Discrete.Chlorophyll</th>\n",
       "      <th>Chlorophyll.a.a.PHA</th>\n",
       "      <th>Fluorescence</th>\n",
       "      <th>Calculated.Chlorophyll</th>\n",
       "      <th>Discrete.Oxygen</th>\n",
       "      <th>Oxygen.Electrode.Output</th>\n",
       "      <th>...</th>\n",
       "      <th>Measured.Extinction.Coefficient</th>\n",
       "      <th>Calculated.Extinction.Coefficient</th>\n",
       "      <th>Salinity</th>\n",
       "      <th>Temperature</th>\n",
       "      <th>Sigma.t</th>\n",
       "      <th>Nitrite</th>\n",
       "      <th>Nitrate...Nitrite</th>\n",
       "      <th>Ammonium</th>\n",
       "      <th>Phosphate</th>\n",
       "      <th>Silicate</th>\n",
       "    </tr>\n",
       "  </thead>\n",
       "  <tbody>\n",
       "    <tr>\n",
       "      <th>0</th>\n",
       "      <td>1969-04-10 16:15:00</td>\n",
       "      <td>4.0</td>\n",
       "      <td>119.90</td>\n",
       "      <td>0.5</td>\n",
       "      <td>NaN</td>\n",
       "      <td>NaN</td>\n",
       "      <td>NaN</td>\n",
       "      <td>NaN</td>\n",
       "      <td>NaN</td>\n",
       "      <td>NaN</td>\n",
       "      <td>...</td>\n",
       "      <td>NaN</td>\n",
       "      <td>NaN</td>\n",
       "      <td>0.3</td>\n",
       "      <td>13.1</td>\n",
       "      <td>NaN</td>\n",
       "      <td>NaN</td>\n",
       "      <td>NaN</td>\n",
       "      <td>NaN</td>\n",
       "      <td>NaN</td>\n",
       "      <td>NaN</td>\n",
       "    </tr>\n",
       "    <tr>\n",
       "      <th>1</th>\n",
       "      <td>1969-04-10 16:16:00</td>\n",
       "      <td>4.0</td>\n",
       "      <td>119.90</td>\n",
       "      <td>2.0</td>\n",
       "      <td>NaN</td>\n",
       "      <td>NaN</td>\n",
       "      <td>NaN</td>\n",
       "      <td>NaN</td>\n",
       "      <td>NaN</td>\n",
       "      <td>NaN</td>\n",
       "      <td>...</td>\n",
       "      <td>NaN</td>\n",
       "      <td>NaN</td>\n",
       "      <td>0.3</td>\n",
       "      <td>13.1</td>\n",
       "      <td>NaN</td>\n",
       "      <td>0.7</td>\n",
       "      <td>NaN</td>\n",
       "      <td>NaN</td>\n",
       "      <td>1.6</td>\n",
       "      <td>236.0</td>\n",
       "    </tr>\n",
       "    <tr>\n",
       "      <th>2</th>\n",
       "      <td>1969-04-10 16:17:00</td>\n",
       "      <td>4.0</td>\n",
       "      <td>119.90</td>\n",
       "      <td>4.0</td>\n",
       "      <td>NaN</td>\n",
       "      <td>NaN</td>\n",
       "      <td>NaN</td>\n",
       "      <td>NaN</td>\n",
       "      <td>NaN</td>\n",
       "      <td>NaN</td>\n",
       "      <td>...</td>\n",
       "      <td>NaN</td>\n",
       "      <td>NaN</td>\n",
       "      <td>0.3</td>\n",
       "      <td>13.0</td>\n",
       "      <td>NaN</td>\n",
       "      <td>NaN</td>\n",
       "      <td>NaN</td>\n",
       "      <td>NaN</td>\n",
       "      <td>NaN</td>\n",
       "      <td>NaN</td>\n",
       "    </tr>\n",
       "    <tr>\n",
       "      <th>3</th>\n",
       "      <td>1969-04-10 16:18:00</td>\n",
       "      <td>4.0</td>\n",
       "      <td>119.90</td>\n",
       "      <td>11.0</td>\n",
       "      <td>NaN</td>\n",
       "      <td>NaN</td>\n",
       "      <td>NaN</td>\n",
       "      <td>NaN</td>\n",
       "      <td>NaN</td>\n",
       "      <td>NaN</td>\n",
       "      <td>...</td>\n",
       "      <td>NaN</td>\n",
       "      <td>NaN</td>\n",
       "      <td>0.3</td>\n",
       "      <td>13.0</td>\n",
       "      <td>NaN</td>\n",
       "      <td>NaN</td>\n",
       "      <td>NaN</td>\n",
       "      <td>NaN</td>\n",
       "      <td>NaN</td>\n",
       "      <td>NaN</td>\n",
       "    </tr>\n",
       "    <tr>\n",
       "      <th>4</th>\n",
       "      <td>1969-04-10 16:30:00</td>\n",
       "      <td>5.0</td>\n",
       "      <td>115.63</td>\n",
       "      <td>0.5</td>\n",
       "      <td>NaN</td>\n",
       "      <td>NaN</td>\n",
       "      <td>NaN</td>\n",
       "      <td>NaN</td>\n",
       "      <td>NaN</td>\n",
       "      <td>NaN</td>\n",
       "      <td>...</td>\n",
       "      <td>NaN</td>\n",
       "      <td>NaN</td>\n",
       "      <td>0.3</td>\n",
       "      <td>14.1</td>\n",
       "      <td>NaN</td>\n",
       "      <td>NaN</td>\n",
       "      <td>NaN</td>\n",
       "      <td>NaN</td>\n",
       "      <td>NaN</td>\n",
       "      <td>NaN</td>\n",
       "    </tr>\n",
       "  </tbody>\n",
       "</table>\n",
       "<p>5 rows × 25 columns</p>\n",
       "</div>"
      ],
      "text/plain": [
       "             TimeStamp  Station.Number  Distance.from.36  Depth  \\\n",
       "0  1969-04-10 16:15:00             4.0            119.90    0.5   \n",
       "1  1969-04-10 16:16:00             4.0            119.90    2.0   \n",
       "2  1969-04-10 16:17:00             4.0            119.90    4.0   \n",
       "3  1969-04-10 16:18:00             4.0            119.90   11.0   \n",
       "4  1969-04-10 16:30:00             5.0            115.63    0.5   \n",
       "\n",
       "   Discrete.Chlorophyll  Chlorophyll.a.a.PHA  Fluorescence  \\\n",
       "0                   NaN                  NaN           NaN   \n",
       "1                   NaN                  NaN           NaN   \n",
       "2                   NaN                  NaN           NaN   \n",
       "3                   NaN                  NaN           NaN   \n",
       "4                   NaN                  NaN           NaN   \n",
       "\n",
       "   Calculated.Chlorophyll  Discrete.Oxygen  Oxygen.Electrode.Output  ...  \\\n",
       "0                     NaN              NaN                      NaN  ...   \n",
       "1                     NaN              NaN                      NaN  ...   \n",
       "2                     NaN              NaN                      NaN  ...   \n",
       "3                     NaN              NaN                      NaN  ...   \n",
       "4                     NaN              NaN                      NaN  ...   \n",
       "\n",
       "   Measured.Extinction.Coefficient  Calculated.Extinction.Coefficient  \\\n",
       "0                              NaN                                NaN   \n",
       "1                              NaN                                NaN   \n",
       "2                              NaN                                NaN   \n",
       "3                              NaN                                NaN   \n",
       "4                              NaN                                NaN   \n",
       "\n",
       "   Salinity  Temperature  Sigma.t  Nitrite  Nitrate...Nitrite  Ammonium  \\\n",
       "0       0.3         13.1      NaN      NaN                NaN       NaN   \n",
       "1       0.3         13.1      NaN      0.7                NaN       NaN   \n",
       "2       0.3         13.0      NaN      NaN                NaN       NaN   \n",
       "3       0.3         13.0      NaN      NaN                NaN       NaN   \n",
       "4       0.3         14.1      NaN      NaN                NaN       NaN   \n",
       "\n",
       "   Phosphate  Silicate  \n",
       "0        NaN       NaN  \n",
       "1        1.6     236.0  \n",
       "2        NaN       NaN  \n",
       "3        NaN       NaN  \n",
       "4        NaN       NaN  \n",
       "\n",
       "[5 rows x 25 columns]"
      ]
     },
     "execution_count": 3,
     "metadata": {},
     "output_type": "execute_result"
    }
   ],
   "source": [
    "data.head()"
   ]
  },
  {
   "cell_type": "markdown",
   "metadata": {},
   "source": [
    "# Prepare data"
   ]
  },
  {
   "cell_type": "code",
   "execution_count": 4,
   "metadata": {},
   "outputs": [],
   "source": [
    "# drop unwanted columns\n",
    "data = data[[\"TimeStamp\",\"Station.Number\",\"Depth\",\"Temperature\",\"Salinity\",\"Oxygen.Electrode.Output\",\"Oxygen.Saturation.percent\"]]"
   ]
  },
  {
   "cell_type": "code",
   "execution_count": 5,
   "metadata": {},
   "outputs": [],
   "source": [
    "# drop time from datetime\n",
    "data.TimeStamp = data.TimeStamp.str.split(\" \").str[0]\n",
    "\n",
    "# drop data before 01.01.2000\n",
    "data = data.query(\"TimeStamp >= '2000-01-01'\").sort_values(by=\"TimeStamp\")\n",
    "\n",
    "# drop day from date\n",
    "data.TimeStamp = data.TimeStamp.map(lambda x: x[:-3])"
   ]
  },
  {
   "cell_type": "code",
   "execution_count": 6,
   "metadata": {},
   "outputs": [],
   "source": [
    "# add Area indicator\n",
    "conditions = [\n",
    "    (data[\"Station.Number\"]>=3) & (data[\"Station.Number\"]<=8),   # Suisun Bay\n",
    "    (data[\"Station.Number\"]>=10) & (data[\"Station.Number\"]<=15), # San Pablo Bay\n",
    "    (data[\"Station.Number\"]>=21) & (data[\"Station.Number\"]<=36)  # South Bay\n",
    "]\n",
    "values = [\"Suisun Bay\", \"San Pablo Bay\", \"South Bay\"]\n",
    "data[\"Area\"] = np.select(conditions, values)\n",
    "\n",
    "# drop stations not in one of the bays\n",
    "data = data.query(\"Area != '0'\")"
   ]
  },
  {
   "cell_type": "markdown",
   "metadata": {},
   "source": [
    "## What to do with depth"
   ]
  },
  {
   "cell_type": "code",
   "execution_count": 7,
   "metadata": {},
   "outputs": [
    {
     "data": {
      "text/plain": [
       "<Figure size 432x288 with 0 Axes>"
      ]
     },
     "metadata": {},
     "output_type": "display_data"
    },
    {
     "data": {
      "image/png": "[encoded data removed]",
      "text/plain": [
       "<Figure size 432x288 with 1 Axes>"
      ]
     },
     "metadata": {
      "needs_background": "light"
     },
     "output_type": "display_data"
    }
   ],
   "source": [
    "# Check values for different depths (aggregated by area)\n",
    "depths = pd.DataFrame(data.groupby(\"Area\").Depth.value_counts())\n",
    "\n",
    "plt.figure()\n",
    "depths.unstack(level=0).plot(kind='line', subplots=False)\n",
    "plt.ylabel(\"number of datapoints\")\n",
    "plt.show()"
   ]
  },
  {
   "cell_type": "code",
   "execution_count": 8,
   "metadata": {},
   "outputs": [
    {
     "data": {
      "text/plain": [
       "<Figure size 432x288 with 0 Axes>"
      ]
     },
     "metadata": {},
     "output_type": "display_data"
    },
    {
     "data": {
      "image/png": "[encoded data removed]",
      "text/plain": [
       "<Figure size 432x288 with 1 Axes>"
      ]
     },
     "metadata": {
      "needs_background": "light"
     },
     "output_type": "display_data"
    }
   ],
   "source": [
    "# Check values for different depths (for each station)\n",
    "depths = pd.DataFrame(data.groupby(\"Station.Number\").Depth.value_counts())\n",
    "\n",
    "plt.figure()\n",
    "depths.unstack(level=0).plot(kind='line', subplots=False, xlim=[0,12], xticks=np.arange(0, 13, step=1), legend=None)\n",
    "plt.ylabel(\"number of datapoints\")\n",
    "plt.show()"
   ]
  },
  {
   "cell_type": "markdown",
   "metadata": {},
   "source": [
    "All areas have plenty of data for the shallower depths. Looking at each station individually, all but one have at least 100 datapoints for each depth from 1-6. \n",
    "\n",
    "It also becomes apparent, that the high number of datapoints for South Bay comes not from an increase in data collected but instead from the large number of stations within the bay. \n",
    "\n",
    "Conclusion: we will use (and aggregate) the values of depths 1-6 for each area and month."
   ]
  },
  {
   "cell_type": "code",
   "execution_count": 9,
   "metadata": {},
   "outputs": [],
   "source": [
    "# drop depths deeper than 6\n",
    "data = data.query(\"Depth <= 6\")"
   ]
  },
  {
   "cell_type": "markdown",
   "metadata": {},
   "source": [
    "## Aggregate by month and area"
   ]
  },
  {
   "cell_type": "code",
   "execution_count": 10,
   "metadata": {},
   "outputs": [],
   "source": [
    "# drop station number and depth before aggregating\n",
    "data = data.drop([\"Station.Number\", \"Depth\"], axis=1)\n",
    "\n",
    "# aggregate by area and month (mean)\n",
    "data = data.groupby([\"Area\", \"TimeStamp\"], as_index=False).median()"
   ]
  },
  {
   "cell_type": "markdown",
   "metadata": {},
   "source": [
    "## Any remaining NaNs?"
   ]
  },
  {
   "cell_type": "code",
   "execution_count": 11,
   "metadata": {},
   "outputs": [],
   "source": [
    "data = data.sort_values(by=[\"TimeStamp\",\"Area\"])"
   ]
  },
  {
   "cell_type": "code",
   "execution_count": 12,
   "metadata": {},
   "outputs": [
    {
     "data": {
      "text/html": [
       "<div>\n",
       "<style scoped>\n",
       "    .dataframe tbody tr th:only-of-type {\n",
       "        vertical-align: middle;\n",
       "    }\n",
       "\n",
       "    .dataframe tbody tr th {\n",
       "        vertical-align: top;\n",
       "    }\n",
       "\n",
       "    .dataframe thead th {\n",
       "        text-align: right;\n",
       "    }\n",
       "</style>\n",
       "<table border=\"1\" class=\"dataframe\">\n",
       "  <thead>\n",
       "    <tr style=\"text-align: right;\">\n",
       "      <th></th>\n",
       "      <th>Area</th>\n",
       "      <th>TimeStamp</th>\n",
       "      <th>Temperature</th>\n",
       "      <th>Salinity</th>\n",
       "      <th>Oxygen.Electrode.Output</th>\n",
       "      <th>Oxygen.Saturation.percent</th>\n",
       "    </tr>\n",
       "  </thead>\n",
       "  <tbody>\n",
       "    <tr>\n",
       "      <th>34</th>\n",
       "      <td>San Pablo Bay</td>\n",
       "      <td>2003-03</td>\n",
       "      <td>14.190</td>\n",
       "      <td>20.625</td>\n",
       "      <td>8.80</td>\n",
       "      <td>NaN</td>\n",
       "    </tr>\n",
       "    <tr>\n",
       "      <th>352</th>\n",
       "      <td>Suisun Bay</td>\n",
       "      <td>2003-03</td>\n",
       "      <td>14.390</td>\n",
       "      <td>2.915</td>\n",
       "      <td>9.80</td>\n",
       "      <td>NaN</td>\n",
       "    </tr>\n",
       "    <tr>\n",
       "      <th>371</th>\n",
       "      <td>Suisun Bay</td>\n",
       "      <td>2004-11</td>\n",
       "      <td>NaN</td>\n",
       "      <td>NaN</td>\n",
       "      <td>NaN</td>\n",
       "      <td>NaN</td>\n",
       "    </tr>\n",
       "    <tr>\n",
       "      <th>102</th>\n",
       "      <td>San Pablo Bay</td>\n",
       "      <td>2009-08</td>\n",
       "      <td>18.960</td>\n",
       "      <td>26.505</td>\n",
       "      <td>NaN</td>\n",
       "      <td>NaN</td>\n",
       "    </tr>\n",
       "    <tr>\n",
       "      <th>420</th>\n",
       "      <td>Suisun Bay</td>\n",
       "      <td>2009-08</td>\n",
       "      <td>19.785</td>\n",
       "      <td>8.435</td>\n",
       "      <td>NaN</td>\n",
       "      <td>NaN</td>\n",
       "    </tr>\n",
       "    <tr>\n",
       "      <th>117</th>\n",
       "      <td>San Pablo Bay</td>\n",
       "      <td>2010-12</td>\n",
       "      <td>11.720</td>\n",
       "      <td>23.810</td>\n",
       "      <td>8.35</td>\n",
       "      <td>NaN</td>\n",
       "    </tr>\n",
       "    <tr>\n",
       "      <th>279</th>\n",
       "      <td>South Bay</td>\n",
       "      <td>2010-12</td>\n",
       "      <td>12.540</td>\n",
       "      <td>28.725</td>\n",
       "      <td>7.75</td>\n",
       "      <td>NaN</td>\n",
       "    </tr>\n",
       "    <tr>\n",
       "      <th>435</th>\n",
       "      <td>Suisun Bay</td>\n",
       "      <td>2010-12</td>\n",
       "      <td>11.685</td>\n",
       "      <td>2.930</td>\n",
       "      <td>9.30</td>\n",
       "      <td>NaN</td>\n",
       "    </tr>\n",
       "    <tr>\n",
       "      <th>128</th>\n",
       "      <td>San Pablo Bay</td>\n",
       "      <td>2011-12</td>\n",
       "      <td>10.780</td>\n",
       "      <td>26.120</td>\n",
       "      <td>NaN</td>\n",
       "      <td>NaN</td>\n",
       "    </tr>\n",
       "    <tr>\n",
       "      <th>291</th>\n",
       "      <td>South Bay</td>\n",
       "      <td>2011-12</td>\n",
       "      <td>11.090</td>\n",
       "      <td>28.120</td>\n",
       "      <td>NaN</td>\n",
       "      <td>NaN</td>\n",
       "    </tr>\n",
       "    <tr>\n",
       "      <th>446</th>\n",
       "      <td>Suisun Bay</td>\n",
       "      <td>2011-12</td>\n",
       "      <td>9.815</td>\n",
       "      <td>8.285</td>\n",
       "      <td>NaN</td>\n",
       "      <td>NaN</td>\n",
       "    </tr>\n",
       "    <tr>\n",
       "      <th>130</th>\n",
       "      <td>San Pablo Bay</td>\n",
       "      <td>2012-02</td>\n",
       "      <td>11.275</td>\n",
       "      <td>26.295</td>\n",
       "      <td>NaN</td>\n",
       "      <td>NaN</td>\n",
       "    </tr>\n",
       "    <tr>\n",
       "      <th>293</th>\n",
       "      <td>South Bay</td>\n",
       "      <td>2012-02</td>\n",
       "      <td>12.010</td>\n",
       "      <td>27.560</td>\n",
       "      <td>NaN</td>\n",
       "      <td>NaN</td>\n",
       "    </tr>\n",
       "    <tr>\n",
       "      <th>448</th>\n",
       "      <td>Suisun Bay</td>\n",
       "      <td>2012-02</td>\n",
       "      <td>10.645</td>\n",
       "      <td>8.290</td>\n",
       "      <td>NaN</td>\n",
       "      <td>NaN</td>\n",
       "    </tr>\n",
       "  </tbody>\n",
       "</table>\n",
       "</div>"
      ],
      "text/plain": [
       "              Area TimeStamp  Temperature  Salinity  Oxygen.Electrode.Output  \\\n",
       "34   San Pablo Bay   2003-03       14.190    20.625                     8.80   \n",
       "352     Suisun Bay   2003-03       14.390     2.915                     9.80   \n",
       "371     Suisun Bay   2004-11          NaN       NaN                      NaN   \n",
       "102  San Pablo Bay   2009-08       18.960    26.505                      NaN   \n",
       "420     Suisun Bay   2009-08       19.785     8.435                      NaN   \n",
       "117  San Pablo Bay   2010-12       11.720    23.810                     8.35   \n",
       "279      South Bay   2010-12       12.540    28.725                     7.75   \n",
       "435     Suisun Bay   2010-12       11.685     2.930                     9.30   \n",
       "128  San Pablo Bay   2011-12       10.780    26.120                      NaN   \n",
       "291      South Bay   2011-12       11.090    28.120                      NaN   \n",
       "446     Suisun Bay   2011-12        9.815     8.285                      NaN   \n",
       "130  San Pablo Bay   2012-02       11.275    26.295                      NaN   \n",
       "293      South Bay   2012-02       12.010    27.560                      NaN   \n",
       "448     Suisun Bay   2012-02       10.645     8.290                      NaN   \n",
       "\n",
       "     Oxygen.Saturation.percent  \n",
       "34                         NaN  \n",
       "352                        NaN  \n",
       "371                        NaN  \n",
       "102                        NaN  \n",
       "420                        NaN  \n",
       "117                        NaN  \n",
       "279                        NaN  \n",
       "435                        NaN  \n",
       "128                        NaN  \n",
       "291                        NaN  \n",
       "446                        NaN  \n",
       "130                        NaN  \n",
       "293                        NaN  \n",
       "448                        NaN  "
      ]
     },
     "execution_count": 12,
     "metadata": {},
     "output_type": "execute_result"
    }
   ],
   "source": [
    "data[data[\"Temperature\"].isna() | data[\"Salinity\"].isna() | data[\"Oxygen.Electrode.Output\"].isna() |\n",
    "    data[\"Oxygen.Saturation.percent\"].isna()]"
   ]
  },
  {
   "cell_type": "markdown",
   "metadata": {},
   "source": [
    "1) Suisun Bay at 2004-11 has no data\n",
    "\n",
    "2) All bays sometimes have no Oxygen data (14 / 471 rows) but still have data for Temp & Sal\n",
    "\n",
    "3) There are no sequential months without data for any area\n",
    "\n",
    "Conclusion: do standard linear interpolation, but for each area separately and then recombine the data set."
   ]
  },
  {
   "cell_type": "markdown",
   "metadata": {},
   "source": [
    "## Do interpolation per area separately"
   ]
  },
  {
   "cell_type": "code",
   "execution_count": 13,
   "metadata": {},
   "outputs": [],
   "source": [
    "data = pd.concat(\n",
    "    [data[data.Area == \"San Pablo Bay\"].interpolate(), \n",
    "     data[data.Area == \"Suisun Bay\"].interpolate(),\n",
    "     data[data.Area == \"South Bay\"].interpolate()]\n",
    ").sort_values(by=[\"TimeStamp\",\"Area\"]).reset_index(drop=True)"
   ]
  },
  {
   "cell_type": "markdown",
   "metadata": {},
   "source": [
    "## Still any NaNs?"
   ]
  },
  {
   "cell_type": "code",
   "execution_count": 14,
   "metadata": {},
   "outputs": [
    {
     "data": {
      "text/plain": [
       "Area                         False\n",
       "TimeStamp                    False\n",
       "Temperature                  False\n",
       "Salinity                     False\n",
       "Oxygen.Electrode.Output      False\n",
       "Oxygen.Saturation.percent    False\n",
       "dtype: bool"
      ]
     },
     "execution_count": 14,
     "metadata": {},
     "output_type": "execute_result"
    }
   ],
   "source": [
    "data.isna().any()"
   ]
  },
  {
   "cell_type": "markdown",
   "metadata": {},
   "source": [
    "All good now"
   ]
  },
  {
   "cell_type": "markdown",
   "metadata": {},
   "source": [
    "# Finished data"
   ]
  },
  {
   "cell_type": "code",
   "execution_count": 15,
   "metadata": {},
   "outputs": [
    {
     "data": {
      "text/html": [
       "<div>\n",
       "<style scoped>\n",
       "    .dataframe tbody tr th:only-of-type {\n",
       "        vertical-align: middle;\n",
       "    }\n",
       "\n",
       "    .dataframe tbody tr th {\n",
       "        vertical-align: top;\n",
       "    }\n",
       "\n",
       "    .dataframe thead th {\n",
       "        text-align: right;\n",
       "    }\n",
       "</style>\n",
       "<table border=\"1\" class=\"dataframe\">\n",
       "  <thead>\n",
       "    <tr style=\"text-align: right;\">\n",
       "      <th></th>\n",
       "      <th>Area</th>\n",
       "      <th>TimeStamp</th>\n",
       "      <th>Temperature</th>\n",
       "      <th>Salinity</th>\n",
       "      <th>Oxygen.Electrode.Output</th>\n",
       "      <th>Oxygen.Saturation.percent</th>\n",
       "    </tr>\n",
       "  </thead>\n",
       "  <tbody>\n",
       "    <tr>\n",
       "      <th>0</th>\n",
       "      <td>San Pablo Bay</td>\n",
       "      <td>2000-01</td>\n",
       "      <td>10.390</td>\n",
       "      <td>21.305</td>\n",
       "      <td>9.20</td>\n",
       "      <td>88.0</td>\n",
       "    </tr>\n",
       "    <tr>\n",
       "      <th>1</th>\n",
       "      <td>South Bay</td>\n",
       "      <td>2000-01</td>\n",
       "      <td>11.010</td>\n",
       "      <td>29.255</td>\n",
       "      <td>8.30</td>\n",
       "      <td>87.0</td>\n",
       "    </tr>\n",
       "    <tr>\n",
       "      <th>2</th>\n",
       "      <td>Suisun Bay</td>\n",
       "      <td>2000-01</td>\n",
       "      <td>9.930</td>\n",
       "      <td>6.095</td>\n",
       "      <td>10.40</td>\n",
       "      <td>89.0</td>\n",
       "    </tr>\n",
       "    <tr>\n",
       "      <th>3</th>\n",
       "      <td>San Pablo Bay</td>\n",
       "      <td>2000-02</td>\n",
       "      <td>11.740</td>\n",
       "      <td>14.360</td>\n",
       "      <td>10.05</td>\n",
       "      <td>89.0</td>\n",
       "    </tr>\n",
       "    <tr>\n",
       "      <th>4</th>\n",
       "      <td>South Bay</td>\n",
       "      <td>2000-02</td>\n",
       "      <td>12.320</td>\n",
       "      <td>21.100</td>\n",
       "      <td>9.60</td>\n",
       "      <td>91.0</td>\n",
       "    </tr>\n",
       "    <tr>\n",
       "      <th>5</th>\n",
       "      <td>Suisun Bay</td>\n",
       "      <td>2000-02</td>\n",
       "      <td>11.105</td>\n",
       "      <td>0.130</td>\n",
       "      <td>10.70</td>\n",
       "      <td>85.0</td>\n",
       "    </tr>\n",
       "    <tr>\n",
       "      <th>6</th>\n",
       "      <td>San Pablo Bay</td>\n",
       "      <td>2000-03</td>\n",
       "      <td>11.545</td>\n",
       "      <td>2.560</td>\n",
       "      <td>11.00</td>\n",
       "      <td>84.5</td>\n",
       "    </tr>\n",
       "    <tr>\n",
       "      <th>7</th>\n",
       "      <td>South Bay</td>\n",
       "      <td>2000-03</td>\n",
       "      <td>13.495</td>\n",
       "      <td>15.895</td>\n",
       "      <td>10.10</td>\n",
       "      <td>93.0</td>\n",
       "    </tr>\n",
       "    <tr>\n",
       "      <th>8</th>\n",
       "      <td>Suisun Bay</td>\n",
       "      <td>2000-03</td>\n",
       "      <td>11.435</td>\n",
       "      <td>0.080</td>\n",
       "      <td>11.10</td>\n",
       "      <td>83.0</td>\n",
       "    </tr>\n",
       "    <tr>\n",
       "      <th>9</th>\n",
       "      <td>San Pablo Bay</td>\n",
       "      <td>2000-04</td>\n",
       "      <td>14.130</td>\n",
       "      <td>15.610</td>\n",
       "      <td>8.80</td>\n",
       "      <td>94.0</td>\n",
       "    </tr>\n",
       "  </tbody>\n",
       "</table>\n",
       "</div>"
      ],
      "text/plain": [
       "            Area TimeStamp  Temperature  Salinity  Oxygen.Electrode.Output  \\\n",
       "0  San Pablo Bay   2000-01       10.390    21.305                     9.20   \n",
       "1      South Bay   2000-01       11.010    29.255                     8.30   \n",
       "2     Suisun Bay   2000-01        9.930     6.095                    10.40   \n",
       "3  San Pablo Bay   2000-02       11.740    14.360                    10.05   \n",
       "4      South Bay   2000-02       12.320    21.100                     9.60   \n",
       "5     Suisun Bay   2000-02       11.105     0.130                    10.70   \n",
       "6  San Pablo Bay   2000-03       11.545     2.560                    11.00   \n",
       "7      South Bay   2000-03       13.495    15.895                    10.10   \n",
       "8     Suisun Bay   2000-03       11.435     0.080                    11.10   \n",
       "9  San Pablo Bay   2000-04       14.130    15.610                     8.80   \n",
       "\n",
       "   Oxygen.Saturation.percent  \n",
       "0                       88.0  \n",
       "1                       87.0  \n",
       "2                       89.0  \n",
       "3                       89.0  \n",
       "4                       91.0  \n",
       "5                       85.0  \n",
       "6                       84.5  \n",
       "7                       93.0  \n",
       "8                       83.0  \n",
       "9                       94.0  "
      ]
     },
     "execution_count": 15,
     "metadata": {},
     "output_type": "execute_result"
    }
   ],
   "source": [
    "data.head(10)"
   ]
  },
  {
   "cell_type": "code",
   "execution_count": 16,
   "metadata": {},
   "outputs": [],
   "source": [
    "data.to_csv(\"data/SFBay_processed.csv\", index=False)"
   ]
  }
 ],
 "metadata": {
  "kernelspec": {
   "display_name": "Python 3",
   "language": "python",
   "name": "python3"
  },
  "language_info": {
   "codemirror_mode": {
    "name": "ipython",
    "version": 3
   },
   "file_extension": ".py",
   "mimetype": "text/x-python",
   "name": "python",
   "nbconvert_exporter": "python",
   "pygments_lexer": "ipython3",
   "version": "3.8.3"
  }
 },
 "nbformat": 4,
 "nbformat_minor": 4
}
